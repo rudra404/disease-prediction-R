{
 "cells": [
  {
   "cell_type": "markdown",
   "id": "35689ccc",
   "metadata": {},
   "source": [
    "## Resampling methods\n",
    "\n",
    "#### 4 resampling techniques are explored and evaluated - all of which are in the **ROSE library**.<br>\n",
    "The other libraries are needed for training the model and extracting evaluation metrics.<br>\n",
    "Documentation for the **ROSE library** can be found here: __[Documentation](https://www.rdocumentation.org/packages/ROSE/versions/0.0-4/topics/ovun.sample)__ <br>\n",
    "The linked blog was used as reference for checking the correctness of implementation: __[Blog](https://www.r-bloggers.com/2021/05/class-imbalance-handling-imbalanced-data-in-r/)__\n",
    "***\n",
    "### This notebook takes appx. 30 minutes to run start to end\n",
    "***\n",
    "\n",
    "### First, the dataset is loaded and split for training."
   ]
  },
  {
   "cell_type": "code",
   "execution_count": 19,
   "id": "fddf0590",
   "metadata": {
    "scrolled": false
   },
   "outputs": [],
   "source": [
    "# loading required libraries\n",
    "library(ROSE)\n",
    "library(randomForest)\n",
    "library(caret)\n",
    "library(e1071)"
   ]
  },
  {
   "cell_type": "code",
   "execution_count": 20,
   "id": "20c4c672",
   "metadata": {
    "scrolled": true
   },
   "outputs": [],
   "source": [
    "# load the smaller dataset\n",
    "newDataset <- read.csv(file = 'brfssCleanedSmall.csv')\n",
    "\n",
    "# set the target variable as a factor\n",
    "newDataset$ASTHMA3 <- as.factor(newDataset$ASTHMA3)\n",
    "\n",
    "# split dataset into test and train data\n",
    "set.seed(100)\n",
    "ind <- sample(nrow(newDataset), 0.7*nrow(newDataset), replace = FALSE)\n",
    "train <- newDataset[ind,]\n",
    "test <- newDataset[-ind,]"
   ]
  },
  {
   "cell_type": "code",
   "execution_count": 21,
   "id": "799d7f04",
   "metadata": {},
   "outputs": [
    {
     "data": {
      "text/plain": [
       "\n",
       "    0     1 \n",
       "24310  3826 "
      ]
     },
     "metadata": {},
     "output_type": "display_data"
    },
    {
     "data": {
      "text/plain": [
       "\n",
       "    0     1 \n",
       "10449  1610 "
      ]
     },
     "metadata": {},
     "output_type": "display_data"
    }
   ],
   "source": [
    "# view number of instances of both classes on the train data\n",
    "table(train$ASTHMA3)\n",
    "# view number of instances of both classes on the test data\n",
    "table(test$ASTHMA3)"
   ]
  },
  {
   "cell_type": "markdown",
   "id": "6c78f56c",
   "metadata": {},
   "source": [
    "***\n",
    "### Then, the training data is resampled and saved as seperate subsets while observing the change in dataset size."
   ]
  },
  {
   "cell_type": "code",
   "execution_count": 22,
   "id": "9e556720",
   "metadata": {
    "scrolled": true
   },
   "outputs": [
    {
     "data": {
      "text/plain": [
       "\n",
       "    0     1 \n",
       "24310 24141 "
      ]
     },
     "metadata": {},
     "output_type": "display_data"
    }
   ],
   "source": [
    "# oversampling and viewing the train dataset size\n",
    "oversample <- ovun.sample(ASTHMA3~., data = train, method = \"over\", p = 0.5)$data\n",
    "table(oversample$ASTHMA3)"
   ]
  },
  {
   "cell_type": "code",
   "execution_count": 23,
   "id": "7ea2af9b",
   "metadata": {},
   "outputs": [
    {
     "data": {
      "text/plain": [
       "\n",
       "   0    1 \n",
       "3789 3826 "
      ]
     },
     "metadata": {},
     "output_type": "display_data"
    }
   ],
   "source": [
    "# undersampling and viewing the train dataset size\n",
    "undersample <- ovun.sample(ASTHMA3~., data = train, method = \"under\", p = 0.5)$data\n",
    "table(undersample$ASTHMA3)"
   ]
  },
  {
   "cell_type": "code",
   "execution_count": 24,
   "id": "d3c4e40f",
   "metadata": {},
   "outputs": [
    {
     "data": {
      "text/plain": [
       "\n",
       "    0     1 \n",
       "14162 13974 "
      ]
     },
     "metadata": {},
     "output_type": "display_data"
    }
   ],
   "source": [
    "# combination of over and under sampling\n",
    "bothsample <- ovun.sample(ASTHMA3~., data=train, method = \"both\", p = 0.5, seed = 222,)$data\n",
    "table(bothsample$ASTHMA3) # view dataset size"
   ]
  },
  {
   "cell_type": "code",
   "execution_count": 25,
   "id": "bdebbf4d",
   "metadata": {},
   "outputs": [
    {
     "data": {
      "text/plain": [
       "\n",
       "    0     1 \n",
       "14057 14079 "
      ]
     },
     "metadata": {},
     "output_type": "display_data"
    }
   ],
   "source": [
    "# using the ROSE function to generate synthetic samples\n",
    "rosesample <- ROSE(ASTHMA3~., data = train, p=0.5, seed=111)$data\n",
    "table(rosesample$ASTHMA3) # view dataset size"
   ]
  },
  {
   "cell_type": "markdown",
   "id": "77e3a6c5",
   "metadata": {},
   "source": [
    "***\n",
    "### Random Forest models are now trained on all sampled subsets and metrics are printed for comparison"
   ]
  },
  {
   "cell_type": "code",
   "execution_count": 26,
   "id": "98dd09b3",
   "metadata": {},
   "outputs": [],
   "source": [
    "# setting the start time to log training duration\n",
    "start_time <- Sys.time()"
   ]
  },
  {
   "cell_type": "code",
   "execution_count": 27,
   "id": "bb3a9114",
   "metadata": {
    "scrolled": true
   },
   "outputs": [
    {
     "data": {
      "text/html": [
       "<strong>Accuracy:</strong> 0.867816568538021"
      ],
      "text/latex": [
       "\\textbf{Accuracy:} 0.867816568538021"
      ],
      "text/markdown": [
       "**Accuracy:** 0.867816568538021"
      ],
      "text/plain": [
       " Accuracy \n",
       "0.8678166 "
      ]
     },
     "metadata": {},
     "output_type": "display_data"
    },
    {
     "data": {
      "text/html": [
       "<strong>Sensitivity:</strong> 0.0217391304347826"
      ],
      "text/latex": [
       "\\textbf{Sensitivity:} 0.0217391304347826"
      ],
      "text/markdown": [
       "**Sensitivity:** 0.0217391304347826"
      ],
      "text/plain": [
       "Sensitivity \n",
       " 0.02173913 "
      ]
     },
     "metadata": {},
     "output_type": "display_data"
    },
    {
     "data": {
      "text/html": [
       "<strong>Balanced Accuracy:</strong> 0.509960387305629"
      ],
      "text/latex": [
       "\\textbf{Balanced Accuracy:} 0.509960387305629"
      ],
      "text/markdown": [
       "**Balanced Accuracy:** 0.509960387305629"
      ],
      "text/plain": [
       "Balanced Accuracy \n",
       "        0.5099604 "
      ]
     },
     "metadata": {},
     "output_type": "display_data"
    },
    {
     "name": "stdout",
     "output_type": "stream",
     "text": [
      "Time difference of 4.851454 mins\n"
     ]
    }
   ],
   "source": [
    "# training random forest on unsampled data\n",
    "model_rf1 <- randomForest(ASTHMA3~., data = train, ntree = 500, mtry = 6, importance = TRUE)\n",
    "# predicting on the test set and printing metrics of interest\n",
    "cmrf1 <- confusionMatrix(predict(model_rf1, test), test$ASTHMA3, positive = '1')\n",
    "cmrf1$overall['Accuracy']\n",
    "cmrf1$byClass['Sensitivity']\n",
    "cmrf1$byClass['Balanced Accuracy']\n",
    "end_time1 <- Sys.time() #log time after prediction\n",
    "print(end_time1 - start_time) # print time taken"
   ]
  },
  {
   "cell_type": "code",
   "execution_count": 28,
   "id": "017d2fbd",
   "metadata": {
    "scrolled": true
   },
   "outputs": [
    {
     "data": {
      "text/html": [
       "<strong>Accuracy:</strong> 0.867236089227962"
      ],
      "text/latex": [
       "\\textbf{Accuracy:} 0.867236089227962"
      ],
      "text/markdown": [
       "**Accuracy:** 0.867236089227962"
      ],
      "text/plain": [
       " Accuracy \n",
       "0.8672361 "
      ]
     },
     "metadata": {},
     "output_type": "display_data"
    },
    {
     "data": {
      "text/html": [
       "<strong>Sensitivity:</strong> 0.0714285714285714"
      ],
      "text/latex": [
       "\\textbf{Sensitivity:} 0.0714285714285714"
      ],
      "text/markdown": [
       "**Sensitivity:** 0.0714285714285714"
      ],
      "text/plain": [
       "Sensitivity \n",
       " 0.07142857 "
      ]
     },
     "metadata": {},
     "output_type": "display_data"
    },
    {
     "data": {
      "text/html": [
       "<strong>Balanced Accuracy:</strong> 0.530642029996035"
      ],
      "text/latex": [
       "\\textbf{Balanced Accuracy:} 0.530642029996035"
      ],
      "text/markdown": [
       "**Balanced Accuracy:** 0.530642029996035"
      ],
      "text/plain": [
       "Balanced Accuracy \n",
       "         0.530642 "
      ]
     },
     "metadata": {},
     "output_type": "display_data"
    },
    {
     "name": "stdout",
     "output_type": "stream",
     "text": [
      "Time difference of 9.305904 mins\n"
     ]
    }
   ],
   "source": [
    "# training random forest on oversampled data\n",
    "model_rf1over <- randomForest(ASTHMA3~., data = oversample, ntree = 500, mtry = 6, importance = TRUE)\n",
    "# predicting on the test set and printing metrics of interest\n",
    "cmrf1over <- confusionMatrix(predict(model_rf1over, test), test$ASTHMA3, positive = '1')\n",
    "cmrf1over$overall['Accuracy']\n",
    "cmrf1over$byClass['Sensitivity']\n",
    "cmrf1over$byClass['Balanced Accuracy']\n",
    "end_time2 <- Sys.time() #log time after prediction\n",
    "print(end_time2 - end_time1) # print time taken"
   ]
  },
  {
   "cell_type": "code",
   "execution_count": 29,
   "id": "c240ed4d",
   "metadata": {
    "scrolled": true
   },
   "outputs": [
    {
     "data": {
      "text/html": [
       "<strong>Accuracy:</strong> 0.679824197694668"
      ],
      "text/latex": [
       "\\textbf{Accuracy:} 0.679824197694668"
      ],
      "text/markdown": [
       "**Accuracy:** 0.679824197694668"
      ],
      "text/plain": [
       " Accuracy \n",
       "0.6798242 "
      ]
     },
     "metadata": {},
     "output_type": "display_data"
    },
    {
     "data": {
      "text/html": [
       "<strong>Sensitivity:</strong> 0.614906832298137"
      ],
      "text/latex": [
       "\\textbf{Sensitivity:} 0.614906832298137"
      ],
      "text/markdown": [
       "**Sensitivity:** 0.614906832298137"
      ],
      "text/plain": [
       "Sensitivity \n",
       "  0.6149068 "
      ]
     },
     "metadata": {},
     "output_type": "display_data"
    },
    {
     "data": {
      "text/html": [
       "<strong>Balanced Accuracy:</strong> 0.652366804990106"
      ],
      "text/latex": [
       "\\textbf{Balanced Accuracy:} 0.652366804990106"
      ],
      "text/markdown": [
       "**Balanced Accuracy:** 0.652366804990106"
      ],
      "text/plain": [
       "Balanced Accuracy \n",
       "        0.6523668 "
      ]
     },
     "metadata": {},
     "output_type": "display_data"
    },
    {
     "name": "stdout",
     "output_type": "stream",
     "text": [
      "Time difference of 1.062139 mins\n"
     ]
    }
   ],
   "source": [
    "# training random forest on undersampled data\n",
    "model_rf1under <- randomForest(ASTHMA3~., data = undersample, ntree = 500, mtry = 6, importance = TRUE)\n",
    "# predicting on the test set and printing metrics of interest\n",
    "cmrf1under <- confusionMatrix(predict(model_rf1under, test), test$ASTHMA3, positive = '1')\n",
    "cmrf1under$overall['Accuracy']\n",
    "cmrf1under$byClass['Sensitivity']\n",
    "cmrf1under$byClass['Balanced Accuracy']\n",
    "end_time3 <- Sys.time() #log time after prediction\n",
    "print(end_time3 - end_time2) #print time taken"
   ]
  },
  {
   "cell_type": "code",
   "execution_count": 30,
   "id": "c9c4a38f",
   "metadata": {
    "scrolled": true
   },
   "outputs": [
    {
     "data": {
      "text/html": [
       "<strong>Accuracy:</strong> 0.847416867070238"
      ],
      "text/latex": [
       "\\textbf{Accuracy:} 0.847416867070238"
      ],
      "text/markdown": [
       "**Accuracy:** 0.847416867070238"
      ],
      "text/plain": [
       " Accuracy \n",
       "0.8474169 "
      ]
     },
     "metadata": {},
     "output_type": "display_data"
    },
    {
     "data": {
      "text/html": [
       "<strong>Sensitivity:</strong> 0.249689440993789"
      ],
      "text/latex": [
       "\\textbf{Sensitivity:} 0.249689440993789"
      ],
      "text/markdown": [
       "**Sensitivity:** 0.249689440993789"
      ],
      "text/plain": [
       "Sensitivity \n",
       "  0.2496894 "
      ]
     },
     "metadata": {},
     "output_type": "display_data"
    },
    {
     "data": {
      "text/html": [
       "<strong>Balanced Accuracy:</strong> 0.594602592063551"
      ],
      "text/latex": [
       "\\textbf{Balanced Accuracy:} 0.594602592063551"
      ],
      "text/markdown": [
       "**Balanced Accuracy:** 0.594602592063551"
      ],
      "text/plain": [
       "Balanced Accuracy \n",
       "        0.5946026 "
      ]
     },
     "metadata": {},
     "output_type": "display_data"
    },
    {
     "name": "stdout",
     "output_type": "stream",
     "text": [
      "Time difference of 4.702458 mins\n"
     ]
    }
   ],
   "source": [
    "# training random forest on a combination of oversampled and undersampled data\n",
    "model_rf1both <- randomForest(ASTHMA3~., data = bothsample, ntree = 500, mtry = 6, importance = TRUE)\n",
    "# predicting on the test set and printing metrics of interest\n",
    "cmrf1both <- confusionMatrix(predict(model_rf1both, test), test$ASTHMA3, positive = '1')\n",
    "cmrf1both$overall['Accuracy']\n",
    "cmrf1both$byClass['Sensitivity']\n",
    "cmrf1both$byClass['Balanced Accuracy']\n",
    "end_time4 <- Sys.time() #log time after prediction\n",
    "print(end_time4 - end_time3) #print time taken"
   ]
  },
  {
   "cell_type": "code",
   "execution_count": 31,
   "id": "095503f4",
   "metadata": {
    "scrolled": true
   },
   "outputs": [
    {
     "data": {
      "text/html": [
       "<strong>Accuracy:</strong> 0.851314371009205"
      ],
      "text/latex": [
       "\\textbf{Accuracy:} 0.851314371009205"
      ],
      "text/markdown": [
       "**Accuracy:** 0.851314371009205"
      ],
      "text/plain": [
       " Accuracy \n",
       "0.8513144 "
      ]
     },
     "metadata": {},
     "output_type": "display_data"
    },
    {
     "data": {
      "text/html": [
       "<strong>Sensitivity:</strong> 0.214285714285714"
      ],
      "text/latex": [
       "\\textbf{Sensitivity:} 0.214285714285714"
      ],
      "text/markdown": [
       "**Sensitivity:** 0.214285714285714"
      ],
      "text/plain": [
       "Sensitivity \n",
       "  0.2142857 "
      ]
     },
     "metadata": {},
     "output_type": "display_data"
    },
    {
     "data": {
      "text/html": [
       "<strong>Balanced Accuracy:</strong> 0.581877281489685"
      ],
      "text/latex": [
       "\\textbf{Balanced Accuracy:} 0.581877281489685"
      ],
      "text/markdown": [
       "**Balanced Accuracy:** 0.581877281489685"
      ],
      "text/plain": [
       "Balanced Accuracy \n",
       "        0.5818773 "
      ]
     },
     "metadata": {},
     "output_type": "display_data"
    },
    {
     "name": "stdout",
     "output_type": "stream",
     "text": [
      "Time difference of 5.058254 mins\n"
     ]
    }
   ],
   "source": [
    "# training random forest on synthetically generated data using ROSE function\n",
    "model_rf1rose <- randomForest(ASTHMA3~., data = rosesample, ntree = 500, mtry = 6, importance = TRUE)\n",
    "# predicting on the test set and printing metrics of interest\n",
    "cmrf1rose <- confusionMatrix(predict(model_rf1rose, test), test$ASTHMA3, positive = '1')\n",
    "cmrf1rose$overall['Accuracy']\n",
    "cmrf1rose$byClass['Sensitivity']\n",
    "cmrf1rose$byClass['Balanced Accuracy']\n",
    "end_time5 <- Sys.time() #log time after prediction\n",
    "print(end_time5 - end_time4) #print time taken"
   ]
  },
  {
   "cell_type": "markdown",
   "id": "38f15c77",
   "metadata": {},
   "source": [
    "***\n",
    "### This concludes experiments for choosing the ideal sampling method for our imbalanced data\n",
    "We will be choosing undersampling due to relatively similar accuracy but significantly higher sensitivity values. Additionally, it uses much lower computational resources and time.\n",
    "***"
   ]
  }
 ],
 "metadata": {
  "kernelspec": {
   "display_name": "R",
   "language": "R",
   "name": "ir"
  },
  "language_info": {
   "codemirror_mode": "r",
   "file_extension": ".r",
   "mimetype": "text/x-r-source",
   "name": "R",
   "pygments_lexer": "r",
   "version": "4.1.2"
  }
 },
 "nbformat": 4,
 "nbformat_minor": 5
}
